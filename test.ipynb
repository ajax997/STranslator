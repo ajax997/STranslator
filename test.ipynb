{
 "cells": [
  {
   "cell_type": "code",
   "execution_count": null,
   "metadata": {},
   "outputs": [],
   "source": [
    "from nltk.corpus import wordnet as wn\n",
    "\n",
    "forms = set() #We'll store the derivational forms in a set to eliminate duplicates\n",
    "for happy_lemma in wn.lemmas(\"\"): #for each \"happy\" lemma in WordNet\n",
    "    forms.add(happy_lemma.name()) #add the lemma itself\n",
    "    for related_lemma in happy_lemma.derivationally_related_forms(): #for each related lemma\n",
    "        forms.add(related_lemma.name()\n",
    "        \n",
    "print(forms))"
   ]
  },
  {
   "cell_type": "code",
   "execution_count": 4,
   "metadata": {},
   "outputs": [],
   "source": [
    "from neo4j import GraphDatabase\n",
    "\n",
    "class nGraph():\n",
    "    def __init__(self, uri, user, password):\n",
    "        self._driver = GraphDatabase.driver(uri, auth=(user, password))\n",
    "    def close(self):\n",
    "        self._driver.close()\n",
    "    \n",
    "\n",
    "    def __run_statement(self, query):\n",
    "        with self._driver.session() as session:\n",
    "            return session.write_transaction(self.run, query)\n",
    "\n",
    "    def run_raw_query(self, query):\n",
    "        return self.__run_statement(query)\n",
    "\n",
    "    def get_label(self, entity):\n",
    "        query = \"MATCH (n:ObjectEntity{objectEntity:'\"+entity+\"'}) RETURN labels(n) as lb\"\n",
    "        r = self.__run_statement(query)[1].records()\n",
    "        for n in r:\n",
    "            return n['lb']\n",
    "\n",
    "    def check_node_exist(self, node_entity):\n",
    "        cypher_s = \"MATCH (n:ObjectEntity{objectEntity:'\"+node_entity+\"'}) RETURN count(n) <> 0 as res\"\n",
    "        r = self.__run_statement(cypher_s)[1].records()\n",
    "        for n in r:\n",
    "            return n['res']\n",
    "    \n",
    "    def get_direct_meaning_node(self, entity, r_type):\n",
    "        query = \"MATCH(n:ObjectEntity{objectEntity:'\"+entity+\"'})-[r:\"+r_type+\"]-(v:ROOTNODE) return v.objectEntity as root\"\n",
    "        r = self.__run_statement(query)[1].records()\n",
    "        for n in r:\n",
    "            return n['root']\n",
    "\n",
    "    \n",
    "\n",
    "    def check_no_direct_vn_meaning(self, node_entity):\n",
    "        cypher_s = \"match(n:ObjectEntity{objectEntity:'\"+node_entity+\"'})-[r:TRANS_EN_VI]-() return count(r) = 0 as res\"\n",
    "        r = self.__run_statement(cypher_s)[1].records()\n",
    "        for n in r:\n",
    "            return n['res']\n",
    "\n",
    "    def get_meaning_of_word(self, w, pos):\n",
    "        query = \"match (n:ObjectEntity{objectEntity:'\"+w+\"'})-[r:TRANS_EN_VI|:EXPLAINAION_VI_VI]->(v\"+pos+\")  return n,r,v\"\n",
    "        return self.__run_statement(query)\n",
    "    def get_meaning_itself(self, w):\n",
    "        query = \"match (n:ObjectEntity{objectEntity:'\"+w+\"'})-[:LANG_POLY_MEANING]->(v) where exists(v.definition)  return labels(v) as lbs, v.definition as def ,ID(v) as id\"\n",
    "        return self.__run_statement(query)\n",
    "    def get_en_synonynm(self, _id):\n",
    "        query = 'match (n)-[:LANG_RELATED_SYNONYM]->(v) where id(n)='+str(_id) + \" return v.objectEntity as s\"\n",
    "        return self.__run_statement(query)\n",
    "\n",
    "    def __getitem__(self, key):\n",
    "        cypher_s = \"MATCH (n {name: '\"+key+\"'}) return n\" \n",
    "        return self.__run_statement(cypher_s)\n",
    "    \n",
    "    @staticmethod\n",
    "    def run(tx, message):\n",
    "        result = tx.run(message)\n",
    "        avail = result.summary().result_available_after\n",
    "        cons = result.summary().result_consumed_after\n",
    "        total_time = avail + cons\n",
    "        return str(total_time)+\" ms\", result"
   ]
  },
  {
   "cell_type": "code",
   "execution_count": null,
   "metadata": {},
   "outputs": [],
   "source": [
    "from nltk.stem import PorterStemmer\n",
    "e_words= [\"abolitionizing\"]\n",
    "ps =PorterStemmer()\n",
    "for w in e_words:\n",
    "    rootWord=ps.stem(w)\n",
    "    print(rootWord)"
   ]
  },
  {
   "cell_type": "code",
   "execution_count": null,
   "metadata": {},
   "outputs": [],
   "source": [
    "from nltk import word_tokenize, pos_tag\n",
    "text = word_tokenize(\"browner\")\n",
    "pos_tag(text)"
   ]
  },
  {
   "cell_type": "code",
   "execution_count": 5,
   "metadata": {},
   "outputs": [],
   "source": [
    "\n",
    "g = nGraph(\"bolt://localhost:7687\", \"ajax997\", \"lumia1020\")\n",
    "\n",
    ""
   ]
  },
  {
   "cell_type": "code",
   "execution_count": null,
   "metadata": {},
   "outputs": [],
   "source": [
    "results = g.run_raw_query(\"match (n:ROOTNODE)-[:LANG_GRAMMAR_GERUND]->(v:GERUND) where not (n)-[:LANG_POS_MEANING]-(v) return v.objectEntity as r, labels(v) as lb\")[1].records()\n",
    "for e in results:\n",
    "    if pos_tag([e['r']])[0][1] == \"VBG\" and \"'\" not in e['r']:\n",
    "        g.run_raw_query(\"match (n:GERUND{objectEntity:'\"+e['r']+\"'})-[:LANG_GRAMMAR_GERUND]-(v:ROOTNODE) where not (n)-[:LANG_POS_MEANING]-(v) set n:VBG create (n)-[:LANG_POS_MEANING]->(v)\")\n",
    "\n",
    "        "
   ]
  },
  {
   "cell_type": "code",
   "execution_count": null,
   "metadata": {
    "tags": [
     "outputPrepend",
     "outputPrepend",
     "outputPrepend",
     "outputPrepend",
     "outputPrepend",
     "outputPrepend",
     "outputPrepend",
     "outputPrepend",
     "outputPrepend",
     "outputPrepend",
     "outputPrepend",
     "outputPrepend"
    ]
   },
   "outputs": [],
   "source": [
    "from pattern.en import pluralize, singularize\n",
    "\n",
    "results = g.run_raw_query(\"match (n:ROOTNODE:ObjectEntity)-[:LANG_POLY_MEANING]->(v:NOUN) where not (n)<-[:LANG_POS_MEANING]-(:NNS) and apoc.text.indexOf(n.objectEntity,' ') = -1 and not n:NNS return n.objectEntity as r\")[1].records()\n",
    "\n",
    "for x in results:\n",
    "    ori = x['r']\n",
    "    pr = pluralize(ori).replace(\"'\", \"\\'\")\n",
    "    if pr[len(pr)-2:] != 'ss':\n",
    "        \n",
    "            \n",
    "        g.run_raw_query(\"merge (n:NNS{objectEntity:\\\"\"+pr+\"\\\", language:'english'}) merge (v:ROOTNODE:ObjectEntity{objectEntity:\\\"\"+ori+\"\\\"}) merge (n)-[:LANG_POS_MEANING]->(v)\")\n",
    "\n",
    "            "
   ]
  },
  {
   "cell_type": "code",
   "execution_count": 2,
   "metadata": {},
   "outputs": [
    {
     "output_type": "stream",
     "name": "stdout",
     "text": "penes\n"
    }
   ],
   "source": [
    "from pattern.en import pluralize, singularize\n",
    "print( pluralize('')) #children\n"
   ]
  },
  {
   "cell_type": "code",
   "execution_count": null,
   "metadata": {},
   "outputs": [],
   "source": [
    "from pattern.en import comparative, superlative\n",
    "superlative('damp')"
   ]
  },
  {
   "cell_type": "code",
   "execution_count": 20,
   "metadata": {},
   "outputs": [
    {
     "output_type": "stream",
     "name": "stderr",
     "text": "Failed to read from defunct connection Address(host='localhost', port=7687) (Address(host='::1', port=7687, flow_info=0, scope_id=0))\nTransaction failed and will be retried in 1.0809586701801874s (Failed to write to closed connection Address(host='localhost', port=7687) (Address(host='::1', port=7687, flow_info=0, scope_id=0)))\n"
    }
   ],
   "source": [
    "results = g.run_raw_query(\"match (n:ROOTNODE) where not (n)<--(:NNS) and (n)-[:LANG_POLY_MEANING]->(:NOUN) and apoc.text.indexOf(n.objectEntity, ' ')= -1 and right(n.objectEntity, 1)<> 's' return n.objectEntity as r\")[1].records()\n",
    ""
   ]
  },
  {
   "cell_type": "code",
   "execution_count": 21,
   "metadata": {
    "tags": [
     "outputPrepend",
     "outputPrepend"
    ]
   },
   "outputs": [
    {
     "output_type": "stream",
     "name": "stdout",
     "text": "0\n"
    }
   ],
   "source": [
    "c = 0\n",
    "for r in results:\n",
    "    su = pluralize(r['r'])\n",
    "    \n",
    "    g.run_raw_query(\"merge (a:ObjectEntity:ROOTNODE{objectEntity:\\\"\"+r['r']+\"\\\"}) merge (b:ObjectEntity:ROOTNODE{objectEntity:\\\"\"+su+\"\\\"}) merge(a)<-[:LANG_POS_MEANING]-(b) set b:NNS\")\n",
    "print(c)"
   ]
  },
  {
   "cell_type": "code",
   "execution_count": null,
   "metadata": {},
   "outputs": [],
   "source": [
    "from autocorrect import Speller\n",
    "spell = Speller(lang='en')\n",
    "spell(\"sentime\")"
   ]
  },
  {
   "cell_type": "code",
   "execution_count": null,
   "metadata": {},
   "outputs": [],
   "source": [
    "literals = \"zxcvbnmasdfghjklqpwoeiruty1234567890\"\n",
    "for x in literals:\n",
    "    g.run_raw_query(\"create (n:Literal{l:'\"+x+\"'})\")"
   ]
  },
  {
   "cell_type": "code",
   "execution_count": null,
   "metadata": {},
   "outputs": [],
   "source": [
    "\"match (l1:Literal{l:'k'}), (l1:Literal{l:'i'}), (l1:Literal{l:'s'}),(l1:Literal{l:'o'}),(l1:Literal{l:'q'}), (v:Root) where (l1)-[r1:PREDICT]->(v) or (l2)-[r2:PREDICT]->(v) or (l3)-[r3:PREDICT]->(v) or (l4)-[r4:PREDICT]->(v) or (l5)-[r5:PREDICT]->(v) with count(r1) + count(r2) + count(r3) + count(r4) + count(r5) as num retrun n orderby num limti 5\""
   ]
  },
  {
   "cell_type": "code",
   "execution_count": null,
   "metadata": {},
   "outputs": [],
   "source": [
    "\"optional match (l1:Literal{l:'s'})-[r1:PREDICT]->(v:Root) optional match (l2:Literal{l:'c'})-[r2:PREDICT]->(v:Root) optional match (l3:Literal{l:'a'})-[r3:PREDICT]->(v:Root) optional match(l4:Literal{l:'g'})-[r4:PREDICT]->(v:Root) optional match(l5:Literal{l:'l'})-[r5:PREDICT]->(v:Root) return v, count(r1) + count(r2) + count(r3) + count(r4) + count(r5) as value ORDER BY value DESC limit 10\""
   ]
  },
  {
   "cell_type": "code",
   "execution_count": null,
   "metadata": {},
   "outputs": [],
   "source": [
    "word = \"antisematism\"\n",
    "query = \"\"\n",
    "return_s = \"\"\n",
    "for i in range(0, len(word)):\n",
    "    return_s += (\"+ count(l\"+str(i)+\")\")\n",
    "    query += \"optional match (l1:Literal{l:'\"+word[i]+\"'})-[r\"+str(i)+\":PREDICT]->(v:Root) \"\n",
    "\n",
    "print(query +\"return \" + return_s[1:] + \" as value ORDER BY value DESC limit 10\")\n",
    ""
   ]
  },
  {
   "cell_type": "code",
   "execution_count": 16,
   "metadata": {},
   "outputs": [],
   "source": [
    "x = [\"furrier\",\n",
    "\"flipper\",\n",
    "\"advancer\",\n",
    "\"salter\",\n",
    "\"insider\",\n",
    "\"fiver\",\n",
    "\"fuller\",\n",
    "\"jointer\",\n",
    "\"thinner\",\n",
    "\"damper\",\n",
    "\"ranker\",\n",
    "\"matter\",\n",
    "\"halter\",\n",
    "\"feller\",\n",
    "\"goer\",\n",
    "\"fancier\",\n",
    "\"haler\",\n",
    "\"graver\",\n",
    "\"faker\",\n",
    "\"homer\",\n",
    "\"number\",\n",
    "\"goner\",\n",
    "\"diviner\",\n",
    "\"dimmer\",\n",
    "\"trimmer\",\n",
    "\"liter\",\n",
    "\"closer\",\n",
    "\"cracker\",\n",
    "\"cutter\",\n",
    "\"first-rater\",\n",
    "\"cleaner\",\n",
    "\"flyer\",\n",
    "\"freelancer\",\n",
    "\"worse\",\n",
    "\"fitter\",\n",
    "\"rusher\",\n",
    "\"cooler\",\n",
    "\"diffuser\",\n",
    "\"broker\",\n",
    "\"flasher\",\n",
    "\"wilder\",\n",
    "\"welcomer\",\n",
    "\"layer\",\n",
    "\"wetter\",\n",
    "\"mummer\",\n",
    "\"part-timer\",\n",
    "\"paster\",\n",
    "\"owner\",\n",
    "\"trigger\",\n",
    "\"puffer\",\n",
    "\"petter\",\n",
    "\"welsher\",\n",
    "\"rainier\",\n",
    "\"wester\",\n",
    "\"patter\",\n",
    "\"rasher\",\n",
    "\"passer\",\n",
    "\"mocker\",\n",
    "\"primer\",\n",
    "\"meeter\",\n",
    "\"minter\",\n",
    "\"bluffer\",\n",
    "\"bother\",\n",
    "\"prompter\",\n",
    "\"oliver\",\n",
    "\"old-timer\",\n",
    "\"bounder\",\n",
    "\"popper\",\n",
    "\"porter\",\n",
    "\"norther\",\n",
    "\"bragger\",\n",
    "\"boner\",\n",
    "\"offer\",\n",
    "\"blinder\",\n",
    "\"planer\",\n",
    "\"muster\",\n",
    "\"beater\",\n",
    "\"dryer\",\n",
    "\"fresher\",\n",
    "\"better\",\n",
    "\"camper\",\n",
    "\"founder\",\n",
    "\"loner\",\n",
    "\"easter\",\n",
    "\"limper\",\n",
    "\"buffer\",\n",
    "\"leer\",\n",
    "\"downer\",\n",
    "\"mainer\",\n",
    "\"archer\",\n",
    "\"bustier\",\n",
    "\"buster\",\n",
    "\"balder\",\n",
    "\"backer\",\n",
    "\"liver\",\n",
    "\"bummer\",\n",
    "\"mariner\",\n",
    "\"litter\",\n",
    "\"outsider\",\n",
    "\"lower\",\n",
    "\"idler\",\n",
    "\"longer\",\n",
    "\"bayer\",\n",
    "\"plumber\",\n",
    "\"madder\",\n",
    "\"loather\",\n",
    "\"lighter\",\n",
    "\"leaner\",\n",
    "\"dresser\",\n",
    "\"doubler\",\n",
    "\"butcher\",\n",
    "\"squinter\",\n",
    "\"shammer\",\n",
    "\"stapler\",\n",
    "\"solder\",\n",
    "\"skewer\",\n",
    "\"strayer\",\n",
    "\"voider\",\n",
    "\"tangier\",\n",
    "\"roaster\",\n",
    "\"stranger\",\n",
    "\"serer\",\n",
    "\"waster\",\n",
    "\"splitter\",\n",
    "\"rounder\",\n",
    "\"tenner\",\n",
    "\"signer\",\n",
    "\"sneaker\",\n",
    "\"shutter\",\n",
    "\"stretcher\",\n",
    "\"souther\",\n",
    "\"tamer\",\n",
    "\"third-rater\",\n",
    "\"spreader\",\n",
    "\"swaggerer\",\n",
    "\"teenager\",\n",
    "\"smoother\",\n",
    "\"rummer\",\n",
    "\"skimmer\",\n",
    "\"topper\",\n",
    "\"slacker\",\n",
    "\"scrubber\",\n",
    "\"tanner\",\n",
    "\"utterer\",\n",
    "\"stocker\",\n",
    "\"setter\",\n",
    "\"securer\",\n",
    "\"steeper\",\n",
    "\"snuffer\",\n",
    "\"sharper\",\n",
    "\"slicker\",\n",
    "\"sparer\",\n",
    "\"sounder\",\n",
    "\"warmer\",\n",
    "\"stoner\"]\n",
    "\n",
    ""
   ]
  },
  {
   "cell_type": "code",
   "execution_count": 17,
   "metadata": {},
   "outputs": [],
   "source": [
    "for i in x:\n",
    "    g.run_raw_query(\"match (n:ROOTNODE{objectEntity:'\"+i+\"'})-[r:LANG_POS_MEANING]-(v:NNS) delete r\")"
   ]
  },
  {
   "cell_type": "code",
   "execution_count": 30,
   "metadata": {},
   "outputs": [
    {
     "output_type": "stream",
     "name": "stderr",
     "text": "Failed to write data to connection Address(host='localhost', port=7687) (Address(host='::1', port=7687, flow_info=0, scope_id=0)); (\"0; 'Underlying socket connection gone (_ssl.c:2053)'\")\nFailed to write data to connection Address(host='localhost', port=7687) (Address(host='::1', port=7687, flow_info=0, scope_id=0)); (\"0; 'Underlying socket connection gone (_ssl.c:2053)'\")\n"
    }
   ],
   "source": [
    "import sys\n",
    "import pickle\n",
    "\n",
    "sys.path.append(\"/Users/nguyennghi/OneDrive - DXC Production/STranslate\")\n",
    "\n",
    "\n",
    "data = pickle.load(open(\"/Users/nguyennghi/OneDrive - DXC Production/STranslate/w_with_meaning.pkl\", 'rb'))\n"
   ]
  },
  {
   "cell_type": "code",
   "execution_count": 47,
   "metadata": {},
   "outputs": [],
   "source": [
    "def flattern_to_one_dementional_array(arr):\n",
    "    return [x.replace('\"', '\\\"') + \" [8119afcf12] \" + y.replace('\"', '\\\"') for x, y in arr]\n"
   ]
  },
  {
   "cell_type": "code",
   "execution_count": 46,
   "metadata": {},
   "outputs": [
    {
     "output_type": "execute_result",
     "data": {
      "text/plain": "['sdfsdf [8119afcf12] w\"edwed', 'wdwd [8119afcf12] wewf']"
     },
     "metadata": {},
     "execution_count": 46
    }
   ],
   "source": [
    "a = [[\"sdfsdf\", \"w\\\"edwed\"], [\"wdwd\", \"wewf\"]]\n",
    "(flattern_to_one_dementional_array(a))"
   ]
  },
  {
   "cell_type": "code",
   "execution_count": 51,
   "metadata": {
    "tags": [
     "outputPrepend"
    ]
   },
   "outputs": [
    {
     "output_type": "error",
     "ename": "TypeError",
     "evalue": "update_relationship_freq() takes 4 positional arguments but 5 were given",
     "traceback": [
      "\u001b[0;31m---------------------------------------------------------------------------\u001b[0m",
      "\u001b[0;31mTypeError\u001b[0m                                 Traceback (most recent call last)",
      "\u001b[0;32m<ipython-input-51-e2ddd9c6ddb6>\u001b[0m in \u001b[0;36m<module>\u001b[0;34m\u001b[0m\n\u001b[1;32m      6\u001b[0m     \u001b[0mkeys_segments\u001b[0m \u001b[0;34m=\u001b[0m \u001b[0mkey\u001b[0m\u001b[0;34m.\u001b[0m\u001b[0msplit\u001b[0m\u001b[0;34m(\u001b[0m\u001b[0;34m\"|\"\u001b[0m\u001b[0;34m)\u001b[0m\u001b[0;34m\u001b[0m\u001b[0m\n\u001b[1;32m      7\u001b[0m     \u001b[0mf_node\u001b[0m\u001b[0;34m,\u001b[0m \u001b[0mto_node_id\u001b[0m \u001b[0;34m=\u001b[0m \u001b[0mkeys_segments\u001b[0m\u001b[0;34m[\u001b[0m\u001b[0;36m0\u001b[0m\u001b[0;34m]\u001b[0m\u001b[0;34m,\u001b[0m \u001b[0mkeys_segments\u001b[0m\u001b[0;34m[\u001b[0m\u001b[0;36m2\u001b[0m\u001b[0;34m]\u001b[0m\u001b[0;34m\u001b[0m\u001b[0m\n\u001b[0;32m----> 8\u001b[0;31m     \u001b[0mg\u001b[0m\u001b[0;34m.\u001b[0m\u001b[0mupdate_relationship_freq\u001b[0m\u001b[0;34m(\u001b[0m\u001b[0mf_node\u001b[0m\u001b[0;34m,\u001b[0m \u001b[0mto_node_id\u001b[0m\u001b[0;34m,\u001b[0m \u001b[0mlen\u001b[0m\u001b[0;34m(\u001b[0m\u001b[0mvalue\u001b[0m\u001b[0;34m)\u001b[0m\u001b[0;34m,\u001b[0m \u001b[0mflattern_to_one_dementional_array\u001b[0m\u001b[0;34m(\u001b[0m\u001b[0mvalue\u001b[0m\u001b[0;34m)\u001b[0m\u001b[0;34m)\u001b[0m\u001b[0;34m\u001b[0m\u001b[0m\n\u001b[0m\u001b[1;32m      9\u001b[0m     \u001b[0;32mbreak\u001b[0m\u001b[0;34m\u001b[0m\u001b[0m\n",
      "\u001b[0;31mTypeError\u001b[0m: update_relationship_freq() takes 4 positional arguments but 5 were given"
     ]
    }
   ],
   "source": [
    "import json\n",
    "import re\n",
    "from graphdb import nGraph\n",
    "g = nGraph(\"bolt://localhost:7687\", \"ajax997\", \"lumia1020\")\n",
    "for key, value in data.items():\n",
    "    keys_segments = key.split(\"|\")\n",
    "    f_node, to_node_id = keys_segments[0], keys_segments[2]\n",
    "    g.update_relationship_freq(f_node, to_node_id, len(value), flattern_to_one_dementional_array(value))\n",
    "    \n"
   ]
  },
  {
   "cell_type": "code",
   "execution_count": 18,
   "metadata": {},
   "outputs": [
    {
     "output_type": "execute_result",
     "data": {
      "text/plain": "'[\"wd23\\\\\"\", \"dwde\"]'"
     },
     "metadata": {},
     "execution_count": 18
    }
   ],
   "source": [
    "a = 'wd23\"'\n",
    "b = \"dwde\"\n",
    "json.dumps([a, b])\n"
   ]
  },
  {
   "cell_type": "code",
   "execution_count": null,
   "metadata": {},
   "outputs": [],
   "source": [
    "f = open(\"listw.txt\")\n",
    "content = f.read()\n",
    "list_w = content.split(\"\\n\")\n",
    "dictionary_en_vi = {}\n",
    "i = 0\n",
    "for w in list_w:\n",
    "    i+=1\n",
    "    if i%1000 == 0:\n",
    "        print(i/100000, \" %\")\n",
    "    j = g.get_meaning_of_word\n",
    "    dictionary_en_vi[w] = j"
   ]
  },
  {
   "cell_type": "code",
   "execution_count": 10,
   "metadata": {},
   "outputs": [
    {
     "output_type": "stream",
     "name": "stdout",
     "text": "87 ms\n"
    },
    {
     "output_type": "execute_result",
     "data": {
      "text/plain": "{'meta': {'notes': [],\n  'r_header': 'hard',\n  'pos': ['ADJECTIVE', 'NOUN', 'ADVERB'],\n  'global_tags': ['từ mỹ,nghĩa mỹ',\n   'ngôn ngữ học',\n   'tiền',\n   'từ lóng',\n   'nước',\n   'thị trường giá cả',\n   'âm']},\n 'jsondata': [{'inline_expl': '',\n   'pos': ['ObjectEntity', 'ADJECTIVE'],\n   'node_id': 821256,\n   'm': 'keo cú',\n   'freq': 1,\n   'tags': [],\n   'n_same_m': ['churlish',\n    'penurious',\n    'tight',\n    'grasping',\n    'close-fisted',\n    'hard',\n    'tight-fisted']},\n  {'inline_expl': '',\n   'pos': ['ObjectEntity', 'ADJECTIVE'],\n   'node_id': 1032052,\n   'm': 'có nồng độ rượu cao',\n   'freq': 1,\n   'tags': ['từ mỹ,nghĩa mỹ'],\n   'n_same_m': ['hard', 'highproof', 'high-proof']},\n  {'inline_expl': '',\n   'pos': ['ObjectEntity', 'ADJECTIVE'],\n   'node_id': 831541,\n   'm': 'cứng',\n   'freq': 1,\n   'tags': [],\n   'n_same_m': ['untender',\n    'scleroid',\n    'unbending',\n    'stiff',\n    'rigid',\n    'wiry',\n    'inflexible',\n    'hard',\n    'unsupple',\n    'unyielding']},\n  {'inline_expl': '',\n   'pos': ['ObjectEntity', 'ADJECTIVE'],\n   'node_id': 834295,\n   'm': 'không thương xót',\n   'freq': 1,\n   'tags': [],\n   'n_same_m': ['pitiless',\n    'dispiteous',\n    'unpitying',\n    'hardheaded',\n    'relentless',\n    'unmerciful',\n    'remorseless',\n    'hard']},\n  {'inline_expl': '',\n   'pos': ['ObjectEntity', 'ADJECTIVE'],\n   'node_id': 1032053,\n   'm': 'đứng giá',\n   'freq': 1,\n   'tags': ['thị trường giá cả'],\n   'n_same_m': ['hard']},\n  {'inline_expl': '',\n   'pos': ['ObjectEntity', 'ADVERB'],\n   'node_id': 832224,\n   'm': 'khắc nghiệt',\n   'freq': 1,\n   'tags': [],\n   'n_same_m': ['pitilessly',\n    'viciously',\n    'hardly',\n    'uncharitably',\n    'hard',\n    'harshly']},\n  {'inline_expl': '',\n   'pos': ['ObjectEntity', 'ADJECTIVE'],\n   'node_id': 980736,\n   'm': 'rắn',\n   'freq': 1,\n   'tags': [],\n   'n_same_m': ['hard', 'anguine', 'solid', 'serpentine']},\n  {'inline_expl': '',\n   'pos': ['ObjectEntity', 'ADJECTIVE'],\n   'node_id': 865065,\n   'm': 'nặng',\n   'freq': 1,\n   'tags': [],\n   'n_same_m': ['ponderous',\n    'weighty',\n    'serious',\n    'strong',\n    'heavy',\n    'stiff',\n    'bad',\n    'grievous',\n    'heady',\n    'hard',\n    'deep',\n    'broad',\n    'hefty',\n    'gross']},\n  {'inline_expl': '',\n   'pos': ['ObjectEntity', 'ADJECTIVE'],\n   'node_id': 1058791,\n   'm': 'không thể chối câi được',\n   'freq': 1,\n   'tags': [],\n   'n_same_m': ['hard', 'incontestable']},\n  {'inline_expl': '',\n   'pos': ['ObjectEntity', 'ADVERB'],\n   'node_id': 898745,\n   'm': 'hết sức cố gắng',\n   'freq': 1,\n   'tags': [],\n   'n_same_m': ['hard']},\n  {'inline_expl': '',\n   'pos': ['ObjectEntity', 'ADJECTIVE'],\n   'node_id': 1032049,\n   'm': 'kêu',\n   'freq': 1,\n   'tags': ['ngôn ngữ học', 'âm'],\n   'n_same_m': ['rhapsodic',\n    'heroic',\n    'flamboyant',\n    'high-falutin',\n    'declamatory',\n    'overblown',\n    'highflown',\n    'vocal',\n    'rhapsodical',\n    'full-mouthed',\n    'sonant',\n    'sounding',\n    'sonorous',\n    'high-faluting',\n    'high-sounding',\n    'hard',\n    'vibrant',\n    'voiced']},\n  {'inline_expl': '',\n   'pos': ['ObjectEntity', 'ADJECTIVE'],\n   'node_id': 1032048,\n   'm': 'không bác bỏ được',\n   'freq': 1,\n   'tags': [],\n   'n_same_m': ['hard']},\n  {'inline_expl': '',\n   'pos': ['ObjectEntity', 'ADVERB'],\n   'node_id': 898743,\n   'm': 'sát cạnh',\n   'freq': 1,\n   'tags': [],\n   'n_same_m': ['hard', 'alongside']},\n  {'inline_expl': '',\n   'pos': ['ObjectEntity', 'ADJECTIVE'],\n   'node_id': 1032051,\n   'm': 'chi li',\n   'freq': 1,\n   'tags': [],\n   'n_same_m': ['hard']},\n  {'inline_expl': '',\n   'pos': ['ObjectEntity', 'ADJECTIVE'],\n   'node_id': 875185,\n   'm': 'cứng cáp',\n   'freq': 1,\n   'tags': [],\n   'n_same_m': ['hard', 'sturdy']},\n  {'inline_expl': '',\n   'pos': ['ObjectEntity', 'ADJECTIVE'],\n   'node_id': 861176,\n   'm': 'khó khăn',\n   'freq': 1,\n   'tags': [],\n   'n_same_m': ['uphill',\n    'scabrous',\n    'pernickety',\n    'trying',\n    'lively',\n    'sticky',\n    'thorny',\n    'knotty',\n    'arduous',\n    'tight',\n    'kittle',\n    'laboured',\n    'stickily',\n    'difficult',\n    'hard',\n    'awkward',\n    'uneasy']},\n  {'inline_expl': '',\n   'pos': ['ObjectEntity', 'NOUN'],\n   'node_id': 1092943,\n   'm': 'đường dốc xuống bến',\n   'freq': 1,\n   'tags': [],\n   'n_same_m': ['hard']},\n  {'inline_expl': '',\n   'pos': ['ObjectEntity', 'ADJECTIVE'],\n   'node_id': 876364,\n   'm': 'cao',\n   'freq': 1,\n   'tags': [],\n   'n_same_m': ['superior',\n    'acute',\n    'topgallant',\n    'high',\n    'tall',\n    'elevated',\n    'lofty',\n    'upper',\n    'stiff',\n    'aloft',\n    'treble',\n    'high-pitched',\n    'towering',\n    'hard',\n    'long',\n    'commanding',\n    'advanced']},\n  {'inline_expl': '',\n   'pos': ['ObjectEntity', 'ADVERB'],\n   'node_id': 829541,\n   'm': 'gay go',\n   'freq': 1,\n   'tags': [],\n   'n_same_m': ['deuced', 'arduously', 'ding-dong', 'punitively', 'hard']},\n  {'inline_expl': '',\n   'pos': ['ObjectEntity', 'ADJECTIVE'],\n   'node_id': 1092942,\n   'm': 'không có tính cứng rắn',\n   'freq': 1,\n   'tags': [],\n   'n_same_m': ['hard']},\n  {'inline_expl': '',\n   'pos': ['ObjectEntity', 'ADVERB'],\n   'node_id': 833022,\n   'm': 'cứng rắn',\n   'freq': 1,\n   'tags': [],\n   'n_same_m': ['adamantly', 'hardly', 'sternly', 'hard', 'inflexibly']},\n  {'inline_expl': '',\n   'pos': ['ObjectEntity', 'ADVERB'],\n   'node_id': 854207,\n   'm': 'sát',\n   'freq': 1,\n   'tags': [],\n   'n_same_m': ['closely', 'nearly', 'close', 'fast', 'hard']},\n  {'inline_expl': '',\n   'pos': ['ObjectEntity', 'ADJECTIVE'],\n   'node_id': 853846,\n   'm': 'hà khắc',\n   'freq': 1,\n   'tags': [],\n   'n_same_m': ['draconian',\n    'stiff',\n    'hard-handed',\n    'draconic',\n    'uncharitable',\n    'inclement',\n    'hard']},\n  {'inline_expl': '',\n   'pos': ['ObjectEntity', 'ADJECTIVE'],\n   'node_id': 821183,\n   'm': 'khó chịu',\n   'freq': 1,\n   'tags': [],\n   'n_same_m': ['impatient',\n    'rotten',\n    'off-putting',\n    'uncomfortable',\n    'obtrusive',\n    'ugly',\n    'unpleasing',\n    'vinegary',\n    'vile',\n    'uneasy',\n    'displeased',\n    'trying',\n    'troublesome',\n    'vinegarish',\n    'objectionable',\n    'snuffy',\n    'obnoxious',\n    'horrid',\n    'hard',\n    'asidic',\n    'unpleasant',\n    'unwelcome',\n    'ill-favoured',\n    'beastly',\n    'distasteful',\n    'nasty',\n    'piggish',\n    'grotty',\n    'bad',\n    'displeasing',\n    'noisome',\n    'disagreeable',\n    'incommodious',\n    'plaguesome',\n    'tiresome',\n    'thin',\n    'offensive',\n    'unacceptable',\n    'ill natured',\n    'accurst',\n    'accursed',\n    'annoyed',\n    'ill-natured',\n    'queer',\n    'cruddly']},\n  {'inline_expl': '',\n   'pos': ['ObjectEntity', 'NOUN'],\n   'node_id': 1092944,\n   'm': 'đường dốc xuống bâi',\n   'freq': 1,\n   'tags': [],\n   'n_same_m': ['hard']},\n  {'inline_expl': '',\n   'pos': ['ObjectEntity', 'ADVERB'],\n   'node_id': 826396,\n   'm': 'gần',\n   'freq': 1,\n   'tags': [],\n   'n_same_m': ['by',\n    'closely',\n    'nearly',\n    'aboard',\n    'near',\n    'about',\n    'close',\n    'hard',\n    'well-nigh',\n    'anigh',\n    'almost']},\n  {'inline_expl': '',\n   'pos': ['ObjectEntity', 'ADVERB'],\n   'node_id': 876225,\n   'm': 'chắc',\n   'freq': 1,\n   'tags': [],\n   'n_same_m': ['certainly', 'stoutly', 'hard', 'likely', 'weightily']},\n  {'inline_expl': '',\n   'pos': ['ObjectEntity', 'ADJECTIVE'],\n   'node_id': 820673,\n   'm': 'nghiêm khắc',\n   'freq': 1,\n   'tags': [],\n   'n_same_m': ['steely',\n    'austere',\n    'strict',\n    'slashing',\n    'astringent',\n    'rigorous',\n    'stern',\n    'severse',\n    'hard',\n    'dour',\n    'blistering',\n    'rugged']},\n  {'inline_expl': '',\n   'pos': ['ObjectEntity', 'ADVERB'],\n   'node_id': 898261,\n   'm': 'mạnh',\n   'freq': 1,\n   'tags': [],\n   'n_same_m': ['forte', 'hard', 'robustly', 'smartly', 'weightily']},\n  {'inline_expl': '',\n   'pos': ['ObjectEntity', 'ADJECTIVE'],\n   'node_id': 1032047,\n   'm': 'hắc',\n   'freq': 1,\n   'tags': [],\n   'n_same_m': ['iron-bound', 'hard', 'sharp']},\n  {'inline_expl': '',\n   'pos': ['ObjectEntity', 'NOUN'],\n   'node_id': 1032055,\n   'm': 'khổ sai',\n   'freq': 1,\n   'tags': ['từ lóng'],\n   'n_same_m': ['hard', 'hard labour']},\n  {'inline_expl': '',\n   'pos': ['ObjectEntity', 'ADJECTIVE'],\n   'node_id': 832912,\n   'm': 'gay gắt',\n   'freq': 1,\n   'tags': [],\n   'n_same_m': ['acid',\n    'scathing',\n    'cutthroat',\n    'snappy',\n    'acrid',\n    'bitter',\n    'rasping',\n    'waspish',\n    'hot',\n    'keen',\n    'acidulous',\n    'severe',\n    'sharp',\n    'hard',\n    'acrimonious',\n    'cat-and-dog',\n    'cutting',\n    'harsh',\n    'acerbic']},\n  {'inline_expl': '',\n   'pos': ['ObjectEntity', 'ADVERB'],\n   'node_id': 820959,\n   'm': 'tích cực',\n   'freq': 1,\n   'tags': [],\n   'n_same_m': ['hard', 'strenuously', 'positively']},\n  {'inline_expl': '',\n   'pos': ['ObjectEntity', 'ADJECTIVE'],\n   'node_id': 1032054,\n   'm': 'thô cứng',\n   'freq': 1,\n   'tags': [],\n   'n_same_m': ['hard']},\n  {'inline_expl': '',\n   'pos': ['ObjectEntity', 'ADJECTIVE'],\n   'node_id': 942972,\n   'm': 'hắc búa',\n   'freq': 1,\n   'tags': [],\n   'n_same_m': ['spiny',\n    'parlous',\n    'meant',\n    'mean',\n    'thorny',\n    'tough',\n    'hard']},\n  {'inline_expl': '',\n   'pos': ['ObjectEntity', 'ADJECTIVE'],\n   'node_id': 1032050,\n   'm': 'cứng',\n   'freq': 1,\n   'tags': ['nước'],\n   'n_same_m': ['untender',\n    'scleroid',\n    'unbending',\n    'stiff',\n    'rigid',\n    'wiry',\n    'inflexible',\n    'hard',\n    'unsupple',\n    'unyielding']},\n  {'inline_expl': '',\n   'pos': ['ObjectEntity', 'ADVERB'],\n   'node_id': 829540,\n   'm': 'khó khăn',\n   'freq': 1,\n   'tags': [],\n   'n_same_m': ['arduously',\n    'thick',\n    'hardly',\n    'painfully',\n    'hard',\n    'uneasily']},\n  {'inline_expl': '',\n   'pos': ['ObjectEntity', 'ADJECTIVE'],\n   'node_id': 831543,\n   'm': 'cứng cỏi',\n   'freq': 1,\n   'tags': [],\n   'n_same_m': ['cast-iron',\n    'gritty',\n    'unbending',\n    'tough',\n    'iron',\n    'strong-minded',\n    'strong-willed',\n    'hard',\n    'uncomplying',\n    'unyielding']},\n  {'inline_expl': '',\n   'pos': ['ObjectEntity', 'ADJECTIVE'],\n   'node_id': 1032046,\n   'm': 'bằng đồng',\n   'freq': 1,\n   'tags': [],\n   'n_same_m': ['hard', 'copper']},\n  {'inline_expl': '',\n   'pos': ['ObjectEntity', 'ADVERB'],\n   'node_id': 845077,\n   'm': 'chật vật',\n   'freq': 1,\n   'tags': [],\n   'n_same_m': ['hard', 'hardly']},\n  {'inline_expl': '',\n   'pos': ['ObjectEntity', 'ADJECTIVE'],\n   'node_id': 933332,\n   'm': 'rõ rành rành',\n   'freq': 1,\n   'tags': [],\n   'n_same_m': ['rank', 'patent', 'open-and-shut', 'hard', 'apparent']},\n  {'inline_expl': '',\n   'pos': ['ObjectEntity', 'ADJECTIVE'],\n   'node_id': 881118,\n   'm': 'gian khổ',\n   'freq': 1,\n   'tags': [],\n   'n_same_m': ['laborious', 'arduous', 'hard', 'rough', 'rugged']},\n  {'inline_expl': '',\n   'pos': ['ObjectEntity', 'ADJECTIVE'],\n   'node_id': 847319,\n   'm': 'khắc nghiệt',\n   'freq': 1,\n   'tags': [],\n   'n_same_m': ['draconian',\n    'rigorous',\n    'stiff',\n    'hard-handed',\n    'devil-like',\n    'draconic',\n    'uncharitable',\n    'inclement',\n    'hard',\n    'harsh']},\n  {'inline_expl': '',\n   'pos': ['ObjectEntity', 'ADJECTIVE'],\n   'node_id': 838207,\n   'm': 'nặng nề',\n   'freq': 1,\n   'tags': [],\n   'n_same_m': ['cumbersome',\n    'ponderous',\n    'weighty',\n    'cumbrous',\n    'laborious',\n    'onerous',\n    'rough',\n    'carking',\n    'strong',\n    'clumpish',\n    'loaded',\n    'stodgy',\n    'beamy',\n    'heavy',\n    'burdensome',\n    'bovine',\n    'hard',\n    'languorous',\n    'leaden',\n    'lumping']},\n  {'inline_expl': '',\n   'pos': ['ObjectEntity', 'ADJECTIVE'],\n   'node_id': 820997,\n   'm': 'rắn chắc',\n   'freq': 1,\n   'tags': [],\n   'n_same_m': ['firm', 'solid', 'brawny', 'hard', 'compact', 'compacted']},\n  {'inline_expl': '',\n   'pos': ['ObjectEntity', 'ADVERB'],\n   'node_id': 845073,\n   'm': 'nghiêm khắc',\n   'freq': 1,\n   'tags': [],\n   'n_same_m': ['blisteringly',\n    'stringently',\n    'censoriously',\n    'ruggedly',\n    'dourly',\n    'hardly',\n    'severely',\n    'sternly',\n    'hard',\n    'relentlessly']},\n  {'inline_expl': '',\n   'pos': ['ObjectEntity', 'ADVERB'],\n   'node_id': 824167,\n   'm': 'nhiều',\n   'freq': 1,\n   'tags': [],\n   'n_same_m': ['much',\n    'aplenty',\n    'well',\n    'lot',\n    'abundantly',\n    'far',\n    'considerably',\n    'widely',\n    'a-plenty',\n    'numerously',\n    'hard',\n    'deep']},\n  {'inline_expl': '',\n   'pos': ['ObjectEntity', 'ADJECTIVE'],\n   'node_id': 1032045,\n   'm': 'bằng kim loại',\n   'freq': 1,\n   'tags': ['tiền'],\n   'n_same_m': ['hard']},\n  {'inline_expl': '',\n   'pos': ['ObjectEntity', 'ADVERB'],\n   'node_id': 829539,\n   'm': 'gian khổ',\n   'freq': 1,\n   'tags': [],\n   'n_same_m': ['hard', 'arduously', 'ruggedly']},\n  {'inline_expl': '',\n   'pos': ['ObjectEntity', 'ADJECTIVE'],\n   'node_id': 848557,\n   'm': 'gay go',\n   'freq': 1,\n   'tags': [],\n   'n_same_m': ['deuced',\n    'trying',\n    'tough',\n    'sore',\n    'arduous',\n    'loaded',\n    'severse',\n    'close',\n    'difficult',\n    'ding-dong',\n    'hard',\n    'rough']},\n  {'inline_expl': '',\n   'pos': ['ObjectEntity', 'ADVERB'],\n   'node_id': 898744,\n   'm': 'hắc',\n   'freq': 1,\n   'tags': [],\n   'n_same_m': ['hard', 'sharply']}]}"
     },
     "metadata": {},
     "execution_count": 10
    }
   ],
   "source": [
    "helper.get_vn_meaning(\"hard\")"
   ]
  }
 ],
 "metadata": {
  "language_info": {
   "name": "python",
   "codemirror_mode": {
    "name": "ipython",
    "version": 3
   },
   "version": "3.6.5-final"
  },
  "orig_nbformat": 2,
  "file_extension": ".py",
  "mimetype": "text/x-python",
  "name": "python",
  "npconvert_exporter": "python",
  "pygments_lexer": "ipython3",
  "version": 3,
  "kernelspec": {
   "name": "python3",
   "display_name": "Python 3"
  }
 },
 "nbformat": 4,
 "nbformat_minor": 2
}