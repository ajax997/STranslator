{
 "cells": [
  {
   "cell_type": "code",
   "execution_count": 31,
   "metadata": {},
   "outputs": [],
   "source": [
    "sys.path.append(\"/Users/nguyennghi/OneDrive - DXC Production/STranslate\")\n",
    "from graphdb import nGraph\n",
    "import graph_helper as ghelper"
   ]
  },
  {
   "cell_type": "code",
   "execution_count": 23,
   "metadata": {},
   "outputs": [
    {
     "output_type": "stream",
     "name": "stdout",
     "text": "/\n"
    }
   ],
   "source": [
    "g = nGraph(\"bolt://localhost:7687\", \"ajax997\", \"lumia1020\")"
   ]
  },
  {
   "cell_type": "code",
   "execution_count": 61,
   "metadata": {},
   "outputs": [],
   "source": [
    "def get_m_s (w, pos =''):\n",
    "    return[ m['m'] for m in ghelper.get_vn_meaning(w, '')['jsondata']]\n",
    "        "
   ]
  },
  {
   "cell_type": "code",
   "execution_count": 120,
   "metadata": {},
   "outputs": [
    {
     "output_type": "stream",
     "name": "stdout",
     "text": "['Where', \"'d\", 'be', 'the', 'sport', 'in', 'that']\n"
    },
    {
     "output_type": "execute_result",
     "data": {
      "text/plain": "['Where', 'would', 'be', 'the', 'sport', 'in', 'that']"
     },
     "metadata": {},
     "execution_count": 120
    }
   ],
   "source": [
    "import nltk\n",
    "sentence = \"Where'd be the sport in that\"\n",
    "text = word_tokenize(sentence)\n",
    "print(text)\n",
    "contraction_flattern(text)\n",
    "\n"
   ]
  },
  {
   "cell_type": "code",
   "execution_count": null,
   "metadata": {},
   "outputs": [],
   "source": []
  },
  {
   "cell_type": "code",
   "execution_count": null,
   "metadata": {},
   "outputs": [],
   "source": []
  },
  {
   "cell_type": "code",
   "execution_count": 115,
   "metadata": {},
   "outputs": [],
   "source": [
    "def contraction_flattern(tokenized_vec):\n",
    "    pos = pos_tag(text)\n",
    "    final = []\n",
    "    for i in range(len(tokenized_vec)):\n",
    "        part = tokenized_vec[i].lower()\n",
    "        if part == \"'ll\":\n",
    "            final = final + ['will']\n",
    "        elif part == \"n't\":\n",
    "            final = final + ['not']\n",
    "        elif part == \"'ve\":\n",
    "            final = final + ['have']\n",
    "        elif part == \"'d\":\n",
    "            if i < len(tokenized_vec) - 1:\n",
    "                if pos[i+1][1] == 'VBN' or tokenized_vec[i+1].lower() == 'better':\n",
    "                    final = final + ['had']\n",
    "                else:\n",
    "                    final = final + ['would']\n",
    "            else:\n",
    "                final = final + ['would']\n",
    "\n",
    "        elif part == \"'re\":\n",
    "            final = final + ['are']\n",
    "        elif part == \"'s\":\n",
    "            if pos[i][1] == 'VBZ':\n",
    "                final = final + ['is']\n",
    "            else:\n",
    "                final = final + [\"'s\"]\n",
    "        else:\n",
    "            final = final + [tokenized_vec[i]]\n",
    "    return final"
   ]
  },
  {
   "cell_type": "code",
   "execution_count": 72,
   "metadata": {},
   "outputs": [],
   "source": [
    "contraction_fattern(text)"
   ]
  },
  {
   "cell_type": "code",
   "execution_count": 118,
   "metadata": {},
   "outputs": [
    {
     "output_type": "stream",
     "name": "stdout",
     "text": "21 ms\nThe >> []\n15 ms\ndefinition >> ['độ rõ', 'sự rõ nét', 'sự định', 'lời định nghĩa', 'sự định nghĩa', 'sự xác định', 'sự định rõ']\n1 ms\nof >> ['of a', 'đứng trước một danh từ định ngữ cho một danh từ khác; không dịch', 'đứng trước một danh từ định ngữ cho một danh từ khác; không dịch', 'làm bằng', 'cách', 'vào', 'of it', 'đứng sau một tính từ chỉ tính chất của cái gì; không dịch', 'đứng sau một danh từ về học vị; không dịch', 'khỏi', 'về phần', 'của', 'đứng sau một danh từ về học vị; không dịch', 'ở', 'gồm có', 'trong', 'trong đám', 'mất...', 'vì', 'bằng', 'về', 'đứng sau một động từ ngụ ý nêm, ngửi mùi vị gì ; không dịch', 'thuộc', 'bởi', 'từ', 'đứng sau một động từ ngụ ý nêm, ngửi mùi vị gì ; không dịch', 'đứng sau một tính từ chỉ tính chất của cái gì; không dịch']\n10 ms\nhell >> ['đồ chết tiệt', 'chỗ giam những người bị bắt (trong trò chơi bắt tù binh của trẻ con)', 'quỷ', 'sòng bạc', 'nơi tối tăm khổ cực', 'địa ngục', 'âm ti']\n1 ms\nis >> []\n10 ms\nsomething >> ['việc này', 'something like mới thật là (thông tục)', 'tầm quan trọng nào đó', 'chức vị nào đó', 'cái đúng', 'việc này', 'cái gì đó', 'cái có lý', 'cái gì đó', 'một việc gì đó', 'điều này', 'tầm quan trọng nào đó', 'gọi là', 'điều này', 'chút ít', 'một việc gì đó', 'cái có lý', 'hơi hơi', 'một điều gì đó', 'cái đúng', 'người có chức nào đó ', 'một điều gì đó', 'chức vị nào đó']\n14 ms\nor >> ['hoặc', 'trước khi', 'nếu không', 'hoặc... hoặc...', 'tức là', 'trước', 'trước khi', 'trước', 'hay là', 'vàng']\n6 ms\nsomewhere >> ['chừng', 'ở một nơi nào đó ', 'khoảng']\n9 ms\nthat >> ['người đó', 'đó', 'đến nỗi', 'cái kia', 'để', 'rằng', 'điều ấy', 'để mà', 'như thế', 'người kia', 'cái đó', 'kia', 'giá mà', 'điều đó', 'cái mà', 'vật đó', 'mà', 'đến nỗi', 'người ấy', 'như thế này', 'cái như thế', 'cái ấy', 'ấy', 'người mà', 'đến thế', 'thế', 'cái', 'là', 'vật ấy']\n0 ms\nis >> []\n16 ms\nhorrible >> ['xấu xa', 'hết sức khó chịu', 'quá lắm', 'kinh khủng', 'kinh khiếp', 'kinh tởm', 'đáng ghét']\n5 ms\n, >> []\n13 ms\na >> ['một', 'loại a', 'mỗi một', 'một', 'cái', 'mỗi', 'một', 'la', 'con', 'chiếc', 'đứa...', 'hạng nhất', 'người giả định thứ nhất', 'hạng tốt nhất hạng rất tốt ', 'trường hợp giả định thứ nhất', 'cuốn', '', 'người']\n15 ms\nstate >> ['phát biểu', 'dành riêng cho nghi lễ', 'địa vị xã hội', 'bệ', 'chính quyền', 'trạng thái', 'tập', 'sự lo lắng', 'tình trạng', 'chính trị', 'biểu diễn bằng ký hiệu', 'quốc gia', 'chính thức', 'định', 'sự huy hoàng', 'tuyên bố', 'ngai', 'bang', 'nhà nước', 'sự phô trương sang trọng', 'sự trọng thể', 'nhà nước', 'sự trang trọng', 'nói rõ']\n6 ms\nof >> ['of a', 'đứng trước một danh từ định ngữ cho một danh từ khác; không dịch', 'đứng trước một danh từ định ngữ cho một danh từ khác; không dịch', 'làm bằng', 'cách', 'vào', 'of it', 'đứng sau một tính từ chỉ tính chất của cái gì; không dịch', 'đứng sau một danh từ về học vị; không dịch', 'khỏi', 'về phần', 'của', 'đứng sau một danh từ về học vị; không dịch', 'ở', 'gồm có', 'trong', 'trong đám', 'mất...', 'vì', 'bằng', 'về', 'đứng sau một động từ ngụ ý nêm, ngửi mùi vị gì ; không dịch', 'thuộc', 'bởi', 'từ', 'đứng sau một động từ ngụ ý nêm, ngửi mùi vị gì ; không dịch', 'đứng sau một tính từ chỉ tính chất của cái gì; không dịch']\n71 ms\ngreat >> ['cao thượng', 'lớn', 'tuyệt hay', 'số nhiều kỳ thi tốt nghiệp tú tài văn chương (tại trường đại học ôc-phớt)', 'hiểu tường tận', 'thân', 'rất', 'hiểu rõ', 'thật là thú vị', 'thạo cừ', 'hết sức', 'cao quý', 'vĩ đại', 'giỏi', 'ca cả', 'to lớn', 'những người vĩ đại']\n11 ms\npain >> ['sự đau khổ', 'đau nhức', 'làm đau khổ', 'đau đớn', 'hình phạt', 'nỗi khó nhọc công sức', 'làm đau đớn', 'sự đau đẻ', 'sự đau đớn']\n21 ms\nand >> ['và', 'không dịch', 'còn', 'và', 'nếu dường như', 'với', 'không dịch', 'tuồng như là', 'cùng']\n13 ms\nsuffering >> ['sự đau khổ', 'đau khổ', 'đau đớn', 'sự đau đớn']\n1 ms\nor >> ['hoặc', 'trước khi', 'nếu không', 'hoặc... hoặc...', 'tức là', 'trước', 'trước khi', 'trước', 'hay là', 'vàng']\n1 ms\na >> ['một', 'loại a', 'mỗi một', 'một', 'cái', 'mỗi', 'một', 'la', 'con', 'chiếc', 'đứa...', 'hạng nhất', 'người giả định thứ nhất', 'hạng tốt nhất hạng rất tốt ', 'trường hợp giả định thứ nhất', 'cuốn', '', 'người']\n27 ms\nplace >> ['vị trí', 'địa điểm', 'vị trí', 'đoạn sách', 'cấp bậc', 'địa vị', 'nơi ở', 'chỗ', 'chỗ thích đáng', 'đưa vào làm', 'đặt', 'thứ tự', 'nơi', 'chỗ ngồi', 'địa phương', 'đánh giá', 'bán', 'đầu tư', 'nhớ', 'nhà', 'quảng trường', 'nơi', 'địa vị', 'ghi bằng cú đặt bóng sút (thể dục,thể thao) (bàn thắng bóng đá)', 'xếp hạng', 'đưa cho', 'giao cho', 'chỗ thích hợp', 'cứ làm', 'để', 'đặt vào', 'hạng', 'nhiệm vụ', 'đoạn bài nói', 'chỗ làm', 'chỗ rộng', 'chỗ đứng', 'cương vị', 'đoạn phố', 'thứ bậc', 'vị trí']\n0 ms\nof >> ['of a', 'đứng trước một danh từ định ngữ cho một danh từ khác; không dịch', 'đứng trước một danh từ định ngữ cho một danh từ khác; không dịch', 'làm bằng', 'cách', 'vào', 'of it', 'đứng sau một tính từ chỉ tính chất của cái gì; không dịch', 'đứng sau một danh từ về học vị; không dịch', 'khỏi', 'về phần', 'của', 'đứng sau một danh từ về học vị; không dịch', 'ở', 'gồm có', 'trong', 'trong đám', 'mất...', 'vì', 'bằng', 'về', 'đứng sau một động từ ngụ ý nêm, ngửi mùi vị gì ; không dịch', 'thuộc', 'bởi', 'từ', 'đứng sau một động từ ngụ ý nêm, ngửi mùi vị gì ; không dịch', 'đứng sau một tính từ chỉ tính chất của cái gì; không dịch']\n1 ms\ngreat >> ['cao thượng', 'lớn', 'tuyệt hay', 'số nhiều kỳ thi tốt nghiệp tú tài văn chương (tại trường đại học ôc-phớt)', 'hiểu tường tận', 'thân', 'rất', 'hiểu rõ', 'thật là thú vị', 'thạo cừ', 'hết sức', 'cao quý', 'vĩ đại', 'giỏi', 'ca cả', 'to lớn', 'những người vĩ đại']\n0 ms\nsuffering >> ['sự đau khổ', 'đau khổ', 'đau đớn', 'sự đau đớn']\n10 ms\nwhere >> ['ra làm sao', 'ở chỗ nào', 'điểm', 'chỗ', 'ni chốn', 'ni', 'ở mặt nào', 'đâu', 'địa điểm', 'đâu', 'ở ni nào', 'từ đâu', 'ở đâu', 'như thế nào', 'ở đâu', 'ở phía nào']\n11 ms\nsinners >> []\n35 ms\ngo >> ['kê', 'bắt đầu', 'truyền miệng', 'hành động theo', 'làm theo', 'đi', 'mất hết', 'sự hoạt đông', 'được thừa nhận', 'có chỗ', 'bán', 'xét theo', 'sự đi', 'tiêu tan', 'ra', 'cốc', 'gãy', 'chén', 'trôi qua', 'sự tích cực', 'sức sống', 'tiến hành', 'ở vào tình trạng', 'yếu đi', 'nói', 'sụp', 'đổ', 'xứng với', 'thành ra', 'hành động phù hợp với', 'chấm dứt', 'cú', 'vừa với', 'hoá thành', 'truyền đi', 'việc rắc rối', 'kết quả', 'sự bận rộn', 'để vừa vào', 'thích hợp với', 'khẩu phần', 'đủ chỗ', 'nhiệt tình', 'sống trong tình trạng', 'đang lưu hành', 'làm đến mức là', 'đi tới', 'vỡ nợ', 'diễn ra', 'tiếp diễn', 'hớp', 'trả', 'sự thắng lợi', 'chết', 'xảy ra', 'thuộc về', 'được biết', 'nói năng', 'sự thành công', 'phá sản', 'trôi đi', 'sự hăng hái', 'thành', 'việc khó xử', 'đánh', 'phổ theo', 'hợp với', 'đặt để', 'điểm đánh', 'nổ', 'hơi', 'diễn biến', 'đi', 'suất', 'sự thử', 'lần', 'đặt', 'hợp nhịp điệu', 'đi đến', 'tiêu vào', 'chạy', 'cư xử']\n8 ms\n. >> []\n"
    }
   ],
   "source": [
    "for l in text:\n",
    "    print(l, '>>' ,get_m_s(l))"
   ]
  },
  {
   "cell_type": "code",
   "execution_count": 39,
   "metadata": {},
   "outputs": [
    {
     "output_type": "stream",
     "name": "stdout",
     "text": "Requirement already satisfied: nltk in /Library/Frameworks/Python.framework/Versions/3.6/lib/python3.6/site-packages\nRequirement already satisfied: six in /Library/Frameworks/Python.framework/Versions/3.6/lib/python3.6/site-packages (from nltk)\n\u001b[33mYou are using pip version 9.0.3, however version 20.1 is available.\nYou should consider upgrading via the 'pip install --upgrade pip' command.\u001b[0m\n"
    }
   ],
   "source": [
    "g.run_raw_query"
   ]
  }
 ],
 "metadata": {
  "language_info": {
   "codemirror_mode": {
    "name": "ipython",
    "version": 3
   },
   "file_extension": ".py",
   "mimetype": "text/x-python",
   "name": "python",
   "nbconvert_exporter": "python",
   "pygments_lexer": "ipython3",
   "version": "3.7.3-final"
  },
  "orig_nbformat": 2,
  "kernelspec": {
   "name": "python3",
   "display_name": "Python 3"
  }
 },
 "nbformat": 4,
 "nbformat_minor": 2
}